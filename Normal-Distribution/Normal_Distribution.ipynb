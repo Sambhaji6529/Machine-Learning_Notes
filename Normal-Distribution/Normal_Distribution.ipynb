{
 "cells": [
  {
   "cell_type": "markdown",
   "id": "6a6a654f",
   "metadata": {},
   "source": [
    "\n",
    "**Normal Distribution and Z Score: Math and statistics for data science**"
   ]
  },
  {
   "cell_type": "code",
   "execution_count": 9,
   "id": "168b1726",
   "metadata": {},
   "outputs": [],
   "source": [
    "import pandas as pd\n",
    "import seaborn as sns"
   ]
  },
  {
   "cell_type": "code",
   "execution_count": 10,
   "id": "ac559a49",
   "metadata": {},
   "outputs": [
    {
     "data": {
      "text/html": [
       "<div>\n",
       "<style scoped>\n",
       "    .dataframe tbody tr th:only-of-type {\n",
       "        vertical-align: middle;\n",
       "    }\n",
       "\n",
       "    .dataframe tbody tr th {\n",
       "        vertical-align: top;\n",
       "    }\n",
       "\n",
       "    .dataframe thead th {\n",
       "        text-align: right;\n",
       "    }\n",
       "</style>\n",
       "<table border=\"1\" class=\"dataframe\">\n",
       "  <thead>\n",
       "    <tr style=\"text-align: right;\">\n",
       "      <th></th>\n",
       "      <th>Gender</th>\n",
       "      <th>Height</th>\n",
       "    </tr>\n",
       "  </thead>\n",
       "  <tbody>\n",
       "    <tr>\n",
       "      <th>0</th>\n",
       "      <td>Male</td>\n",
       "      <td>73.847017</td>\n",
       "    </tr>\n",
       "    <tr>\n",
       "      <th>1</th>\n",
       "      <td>Male</td>\n",
       "      <td>68.781904</td>\n",
       "    </tr>\n",
       "    <tr>\n",
       "      <th>2</th>\n",
       "      <td>Male</td>\n",
       "      <td>74.110105</td>\n",
       "    </tr>\n",
       "    <tr>\n",
       "      <th>3</th>\n",
       "      <td>Male</td>\n",
       "      <td>71.730978</td>\n",
       "    </tr>\n",
       "    <tr>\n",
       "      <th>4</th>\n",
       "      <td>Male</td>\n",
       "      <td>69.881796</td>\n",
       "    </tr>\n",
       "  </tbody>\n",
       "</table>\n",
       "</div>"
      ],
      "text/plain": [
       "  Gender     Height\n",
       "0   Male  73.847017\n",
       "1   Male  68.781904\n",
       "2   Male  74.110105\n",
       "3   Male  71.730978\n",
       "4   Male  69.881796"
      ]
     },
     "execution_count": 10,
     "metadata": {},
     "output_type": "execute_result"
    }
   ],
   "source": [
    "df=pd.read_csv(\"/Users/sambhaji/Downloads/height.csv\")\n",
    "df.head()"
   ]
  },
  {
   "cell_type": "markdown",
   "id": "15725d3e",
   "metadata": {},
   "source": [
    "**(1)Outlier detection and removal using Standard Deviation**"
   ]
  },
  {
   "cell_type": "code",
   "execution_count": 12,
   "id": "736681f7",
   "metadata": {},
   "outputs": [
    {
     "data": {
      "text/plain": [
       "count    10000.000000\n",
       "mean        66.367560\n",
       "std          3.847528\n",
       "min         54.263133\n",
       "25%         63.505620\n",
       "50%         66.318070\n",
       "75%         69.174262\n",
       "max         78.998742\n",
       "Name: Height, dtype: float64"
      ]
     },
     "execution_count": 12,
     "metadata": {},
     "output_type": "execute_result"
    }
   ],
   "source": [
    "df.Height.describe()"
   ]
  },
  {
   "cell_type": "code",
   "execution_count": 33,
   "id": "8c0e3ddb",
   "metadata": {},
   "outputs": [
    {
     "data": {
      "image/png": "[encoded data removed]",
      "text/plain": [
       "<Figure size 640x480 with 1 Axes>"
      ]
     },
     "metadata": {},
     "output_type": "display_data"
    }
   ],
   "source": [
    "sns.histplot(df.Height, kde=True);"
   ]
  },
  {
   "cell_type": "code",
   "execution_count": 17,
   "id": "f57b80ec",
   "metadata": {},
   "outputs": [
    {
     "data": {
      "text/plain": [
       "66.367559754866"
      ]
     },
     "execution_count": 17,
     "metadata": {},
     "output_type": "execute_result"
    }
   ],
   "source": [
    "mean = df.Height.mean()\n",
    "mean"
   ]
  },
  {
   "cell_type": "code",
   "execution_count": 19,
   "id": "20d745c8",
   "metadata": {},
   "outputs": [
    {
     "data": {
      "text/plain": [
       "3.847528120795573"
      ]
     },
     "execution_count": 19,
     "metadata": {},
     "output_type": "execute_result"
    }
   ],
   "source": [
    "#std\n",
    "std_deviation = df.Height.std()\n",
    "std_deviation"
   ]
  },
  {
   "cell_type": "code",
   "execution_count": 20,
   "id": "69178af7",
   "metadata": {},
   "outputs": [
    {
     "data": {
      "text/plain": [
       "54.824975392479274"
      ]
     },
     "execution_count": 20,
     "metadata": {},
     "output_type": "execute_result"
    }
   ],
   "source": [
    "mean-3*std_deviation"
   ]
  },
  {
   "cell_type": "code",
   "execution_count": 21,
   "id": "ad62d20e",
   "metadata": {},
   "outputs": [
    {
     "data": {
      "text/plain": [
       "77.91014411725271"
      ]
     },
     "execution_count": 21,
     "metadata": {},
     "output_type": "execute_result"
    }
   ],
   "source": [
    "mean+3*std_deviation"
   ]
  },
  {
   "cell_type": "markdown",
   "id": "37d893aa",
   "metadata": {},
   "source": [
    "__mean-3,mean+3__\n",
    "**Outlier**"
   ]
  },
  {
   "cell_type": "code",
   "execution_count": 23,
   "id": "b8b20127",
   "metadata": {
    "scrolled": true
   },
   "outputs": [
    {
     "data": {
      "text/html": [
       "<div>\n",
       "<style scoped>\n",
       "    .dataframe tbody tr th:only-of-type {\n",
       "        vertical-align: middle;\n",
       "    }\n",
       "\n",
       "    .dataframe tbody tr th {\n",
       "        vertical-align: top;\n",
       "    }\n",
       "\n",
       "    .dataframe thead th {\n",
       "        text-align: right;\n",
       "    }\n",
       "</style>\n",
       "<table border=\"1\" class=\"dataframe\">\n",
       "  <thead>\n",
       "    <tr style=\"text-align: right;\">\n",
       "      <th></th>\n",
       "      <th>Gender</th>\n",
       "      <th>Height</th>\n",
       "    </tr>\n",
       "  </thead>\n",
       "  <tbody>\n",
       "    <tr>\n",
       "      <th>994</th>\n",
       "      <td>Male</td>\n",
       "      <td>78.095867</td>\n",
       "    </tr>\n",
       "    <tr>\n",
       "      <th>1317</th>\n",
       "      <td>Male</td>\n",
       "      <td>78.462053</td>\n",
       "    </tr>\n",
       "    <tr>\n",
       "      <th>2014</th>\n",
       "      <td>Male</td>\n",
       "      <td>78.998742</td>\n",
       "    </tr>\n",
       "    <tr>\n",
       "      <th>3285</th>\n",
       "      <td>Male</td>\n",
       "      <td>78.528210</td>\n",
       "    </tr>\n",
       "    <tr>\n",
       "      <th>3757</th>\n",
       "      <td>Male</td>\n",
       "      <td>78.621374</td>\n",
       "    </tr>\n",
       "    <tr>\n",
       "      <th>6624</th>\n",
       "      <td>Female</td>\n",
       "      <td>54.616858</td>\n",
       "    </tr>\n",
       "    <tr>\n",
       "      <th>9285</th>\n",
       "      <td>Female</td>\n",
       "      <td>54.263133</td>\n",
       "    </tr>\n",
       "  </tbody>\n",
       "</table>\n",
       "</div>"
      ],
      "text/plain": [
       "      Gender     Height\n",
       "994     Male  78.095867\n",
       "1317    Male  78.462053\n",
       "2014    Male  78.998742\n",
       "3285    Male  78.528210\n",
       "3757    Male  78.621374\n",
       "6624  Female  54.616858\n",
       "9285  Female  54.263133"
      ]
     },
     "execution_count": 23,
     "metadata": {},
     "output_type": "execute_result"
    }
   ],
   "source": [
    "df[(df.Height < 54.82) | (df.Height > 77.91)]"
   ]
  },
  {
   "cell_type": "markdown",
   "id": "4b46a296",
   "metadata": {},
   "source": [
    "**Total 7 oultier find then remove using below code**"
   ]
  },
  {
   "cell_type": "code",
   "execution_count": 24,
   "id": "69308eb1",
   "metadata": {},
   "outputs": [
    {
     "data": {
      "text/plain": [
       "(9993, 2)"
      ]
     },
     "execution_count": 24,
     "metadata": {},
     "output_type": "execute_result"
    }
   ],
   "source": [
    "df_no_outlier = df[(df.Height<77.91) & (df.Height>54.82)]\n",
    "df_no_outlier.shape"
   ]
  },
  {
   "cell_type": "markdown",
   "id": "80f84e2a",
   "metadata": {},
   "source": [
    "**(2) Outlier detection and removal using Z Score**"
   ]
  },
  {
   "cell_type": "markdown",
   "id": "a5119399",
   "metadata": {},
   "source": [
    "Z score is a way to achieve same thing that we did above in part (1)\n",
    "\n",
    "Z score indicates how many standard deviation away a data point is.\n",
    "\n",
    "For example in our case mean is 66.37 and standard deviation is 3.84.\n",
    "\n",
    "If a value of a data point is 77.91 then Z score for that is 3 because it is 3 standard deviation away (77.91 = 66.37 + 3 * 3.84)\n",
    "\n",
    "Calculate the Z Score"
   ]
  },
  {
   "attachments": {
    "zscore.png": {
     "image/png": "[encoded data removed]"
    }
   },
   "cell_type": "markdown",
   "id": "4f6159d1",
   "metadata": {},
   "source": [
    "![zscore.png](attachment:zscore.png)"
   ]
  },
  {
   "cell_type": "markdown",
   "id": "542a30d5",
   "metadata": {},
   "source": [
    "Let's add a new column in our dataframe for this Z score"
   ]
  },
  {
   "cell_type": "code",
   "execution_count": 27,
   "id": "e9a4c569",
   "metadata": {},
   "outputs": [
    {
     "data": {
      "text/html": [
       "<div>\n",
       "<style scoped>\n",
       "    .dataframe tbody tr th:only-of-type {\n",
       "        vertical-align: middle;\n",
       "    }\n",
       "\n",
       "    .dataframe tbody tr th {\n",
       "        vertical-align: top;\n",
       "    }\n",
       "\n",
       "    .dataframe thead th {\n",
       "        text-align: right;\n",
       "    }\n",
       "</style>\n",
       "<table border=\"1\" class=\"dataframe\">\n",
       "  <thead>\n",
       "    <tr style=\"text-align: right;\">\n",
       "      <th></th>\n",
       "      <th>Gender</th>\n",
       "      <th>Height</th>\n",
       "      <th>zscore</th>\n",
       "    </tr>\n",
       "  </thead>\n",
       "  <tbody>\n",
       "    <tr>\n",
       "      <th>0</th>\n",
       "      <td>Male</td>\n",
       "      <td>73.847017</td>\n",
       "      <td>1.943964</td>\n",
       "    </tr>\n",
       "    <tr>\n",
       "      <th>1</th>\n",
       "      <td>Male</td>\n",
       "      <td>68.781904</td>\n",
       "      <td>0.627505</td>\n",
       "    </tr>\n",
       "    <tr>\n",
       "      <th>2</th>\n",
       "      <td>Male</td>\n",
       "      <td>74.110105</td>\n",
       "      <td>2.012343</td>\n",
       "    </tr>\n",
       "    <tr>\n",
       "      <th>3</th>\n",
       "      <td>Male</td>\n",
       "      <td>71.730978</td>\n",
       "      <td>1.393991</td>\n",
       "    </tr>\n",
       "    <tr>\n",
       "      <th>4</th>\n",
       "      <td>Male</td>\n",
       "      <td>69.881796</td>\n",
       "      <td>0.913375</td>\n",
       "    </tr>\n",
       "  </tbody>\n",
       "</table>\n",
       "</div>"
      ],
      "text/plain": [
       "  Gender     Height    zscore\n",
       "0   Male  73.847017  1.943964\n",
       "1   Male  68.781904  0.627505\n",
       "2   Male  74.110105  2.012343\n",
       "3   Male  71.730978  1.393991\n",
       "4   Male  69.881796  0.913375"
      ]
     },
     "execution_count": 27,
     "metadata": {},
     "output_type": "execute_result"
    }
   ],
   "source": [
    "df['zscore'] = ( df.Height - df.Height.mean() ) / df.Height.std()\n",
    "df.head(5)"
   ]
  },
  {
   "cell_type": "markdown",
   "id": "305c4488",
   "metadata": {},
   "source": [
    "Above for first record with height 73.84, z score is 1.94. This means 73.84 is 1.94 standard deviation away from mean"
   ]
  },
  {
   "cell_type": "code",
   "execution_count": 28,
   "id": "03bf64a1",
   "metadata": {},
   "outputs": [
    {
     "data": {
      "text/plain": [
       "66.367559754866"
      ]
     },
     "execution_count": 28,
     "metadata": {},
     "output_type": "execute_result"
    }
   ],
   "source": [
    "df.Height.mean()"
   ]
  },
  {
   "cell_type": "code",
   "execution_count": 29,
   "id": "c420d810",
   "metadata": {},
   "outputs": [
    {
     "data": {
      "text/plain": [
       "3.847528120795573"
      ]
     },
     "execution_count": 29,
     "metadata": {},
     "output_type": "execute_result"
    }
   ],
   "source": [
    "df.Height.std()"
   ]
  },
  {
   "cell_type": "markdown",
   "id": "7e49929b",
   "metadata": {},
   "source": [
    "**(First record value height - height mean)/ height std**"
   ]
  },
  {
   "cell_type": "code",
   "execution_count": 34,
   "id": "fcb234af",
   "metadata": {},
   "outputs": [
    {
     "data": {
      "text/plain": [
       "1.9479166666666679"
      ]
     },
     "execution_count": 34,
     "metadata": {},
     "output_type": "execute_result"
    }
   ],
   "source": [
    "(73.84-66.36)/3.84"
   ]
  },
  {
   "cell_type": "code",
   "execution_count": 31,
   "id": "5155bf7f",
   "metadata": {},
   "outputs": [
    {
     "data": {
      "text/html": [
       "<div>\n",
       "<style scoped>\n",
       "    .dataframe tbody tr th:only-of-type {\n",
       "        vertical-align: middle;\n",
       "    }\n",
       "\n",
       "    .dataframe tbody tr th {\n",
       "        vertical-align: top;\n",
       "    }\n",
       "\n",
       "    .dataframe thead th {\n",
       "        text-align: right;\n",
       "    }\n",
       "</style>\n",
       "<table border=\"1\" class=\"dataframe\">\n",
       "  <thead>\n",
       "    <tr style=\"text-align: right;\">\n",
       "      <th></th>\n",
       "      <th>Gender</th>\n",
       "      <th>Height</th>\n",
       "      <th>zscore</th>\n",
       "    </tr>\n",
       "  </thead>\n",
       "  <tbody>\n",
       "    <tr>\n",
       "      <th>994</th>\n",
       "      <td>Male</td>\n",
       "      <td>78.095867</td>\n",
       "      <td>3.048271</td>\n",
       "    </tr>\n",
       "    <tr>\n",
       "      <th>1317</th>\n",
       "      <td>Male</td>\n",
       "      <td>78.462053</td>\n",
       "      <td>3.143445</td>\n",
       "    </tr>\n",
       "    <tr>\n",
       "      <th>2014</th>\n",
       "      <td>Male</td>\n",
       "      <td>78.998742</td>\n",
       "      <td>3.282934</td>\n",
       "    </tr>\n",
       "    <tr>\n",
       "      <th>3285</th>\n",
       "      <td>Male</td>\n",
       "      <td>78.528210</td>\n",
       "      <td>3.160640</td>\n",
       "    </tr>\n",
       "    <tr>\n",
       "      <th>3757</th>\n",
       "      <td>Male</td>\n",
       "      <td>78.621374</td>\n",
       "      <td>3.184854</td>\n",
       "    </tr>\n",
       "  </tbody>\n",
       "</table>\n",
       "</div>"
      ],
      "text/plain": [
       "     Gender     Height    zscore\n",
       "994    Male  78.095867  3.048271\n",
       "1317   Male  78.462053  3.143445\n",
       "2014   Male  78.998742  3.282934\n",
       "3285   Male  78.528210  3.160640\n",
       "3757   Male  78.621374  3.184854"
      ]
     },
     "execution_count": 31,
     "metadata": {},
     "output_type": "execute_result"
    }
   ],
   "source": [
    "df[df['zscore']>3]"
   ]
  },
  {
   "cell_type": "code",
   "execution_count": 32,
   "id": "3233c36a",
   "metadata": {},
   "outputs": [
    {
     "data": {
      "text/html": [
       "<div>\n",
       "<style scoped>\n",
       "    .dataframe tbody tr th:only-of-type {\n",
       "        vertical-align: middle;\n",
       "    }\n",
       "\n",
       "    .dataframe tbody tr th {\n",
       "        vertical-align: top;\n",
       "    }\n",
       "\n",
       "    .dataframe thead th {\n",
       "        text-align: right;\n",
       "    }\n",
       "</style>\n",
       "<table border=\"1\" class=\"dataframe\">\n",
       "  <thead>\n",
       "    <tr style=\"text-align: right;\">\n",
       "      <th></th>\n",
       "      <th>Gender</th>\n",
       "      <th>Height</th>\n",
       "      <th>zscore</th>\n",
       "    </tr>\n",
       "  </thead>\n",
       "  <tbody>\n",
       "    <tr>\n",
       "      <th>6624</th>\n",
       "      <td>Female</td>\n",
       "      <td>54.616858</td>\n",
       "      <td>-3.054091</td>\n",
       "    </tr>\n",
       "    <tr>\n",
       "      <th>9285</th>\n",
       "      <td>Female</td>\n",
       "      <td>54.263133</td>\n",
       "      <td>-3.146027</td>\n",
       "    </tr>\n",
       "  </tbody>\n",
       "</table>\n",
       "</div>"
      ],
      "text/plain": [
       "      Gender     Height    zscore\n",
       "6624  Female  54.616858 -3.054091\n",
       "9285  Female  54.263133 -3.146027"
      ]
     },
     "execution_count": 32,
     "metadata": {},
     "output_type": "execute_result"
    }
   ],
   "source": [
    "df[df['zscore']<-3]"
   ]
  },
  {
   "cell_type": "code",
   "execution_count": null,
   "id": "9560f547",
   "metadata": {},
   "outputs": [],
   "source": []
  }
 ],
 "metadata": {
  "kernelspec": {
   "display_name": "Python 3 (ipykernel)",
   "language": "python",
   "name": "python3"
  },
  "language_info": {
   "codemirror_mode": {
    "name": "ipython",
    "version": 3
   },
   "file_extension": ".py",
   "mimetype": "text/x-python",
   "name": "python",
   "nbconvert_exporter": "python",
   "pygments_lexer": "ipython3",
   "version": "3.10.9"
  }
 },
 "nbformat": 4,
 "nbformat_minor": 5
}
